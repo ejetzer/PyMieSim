{
 "cells": [
  {
   "cell_type": "markdown",
   "metadata": {
    "colab_type": "text",
    "id": "view-in-github"
   },
   "source": [
    "<a href=\"https://colab.research.google.com/github/MartinPdeS/PyMieSim/blob/master/MieSIm.ipynb\" target=\"_parent\"><img src=\"https://colab.research.google.com/assets/colab-badge.svg\" alt=\"Open In Colab\"/></a>"
   ]
  },
  {
   "cell_type": "markdown",
   "metadata": {
    "id": "R5xUQ2lfZ1Jn"
   },
   "source": [
    "**Public package download and install**\n",
    "==========================================\n"
   ]
  },
  {
   "cell_type": "code",
   "execution_count": 1,
   "metadata": {
    "colab": {
     "base_uri": "https://localhost:8080/"
    },
    "collapsed": true,
    "id": "lwOEi7pZMPIa",
    "jupyter": {
     "outputs_hidden": true,
     "source_hidden": true
    },
    "outputId": "263310fe-866a-4c21-df30-f94bb35f6297",
    "tags": []
   },
   "outputs": [
    {
     "name": "stdout",
     "output_type": "stream",
     "text": [
      "Reading package lists... Done\n",
      "Building dependency tree       \n",
      "Reading state information... Done\n",
      "proj-data is already the newest version (4.9.3-2).\n",
      "proj-data set to manually installed.\n",
      "The following NEW packages will be installed:\n",
      "  libproj-dev proj-bin\n",
      "0 upgraded, 2 newly installed, 0 to remove and 15 not upgraded.\n",
      "Need to get 232 kB of archives.\n",
      "After this operation, 1,220 kB of additional disk space will be used.\n",
      "Get:1 http://archive.ubuntu.com/ubuntu bionic/universe amd64 libproj-dev amd64 4.9.3-2 [199 kB]\n",
      "Get:2 http://archive.ubuntu.com/ubuntu bionic/universe amd64 proj-bin amd64 4.9.3-2 [32.3 kB]\n",
      "Fetched 232 kB in 2s (119 kB/s)\n",
      "Selecting previously unselected package libproj-dev:amd64.\n",
      "(Reading database ... 146442 files and directories currently installed.)\n",
      "Preparing to unpack .../libproj-dev_4.9.3-2_amd64.deb ...\n",
      "Unpacking libproj-dev:amd64 (4.9.3-2) ...\n",
      "Selecting previously unselected package proj-bin.\n",
      "Preparing to unpack .../proj-bin_4.9.3-2_amd64.deb ...\n",
      "Unpacking proj-bin (4.9.3-2) ...\n",
      "Setting up libproj-dev:amd64 (4.9.3-2) ...\n",
      "Setting up proj-bin (4.9.3-2) ...\n",
      "Processing triggers for man-db (2.8.3-2ubuntu0.1) ...\n",
      "Reading package lists... Done\n",
      "Building dependency tree       \n",
      "Reading state information... Done\n",
      "Suggested packages:\n",
      "  libgdal-doc\n",
      "The following NEW packages will be installed:\n",
      "  libgeos-dev\n",
      "0 upgraded, 1 newly installed, 0 to remove and 15 not upgraded.\n",
      "Need to get 73.1 kB of archives.\n",
      "After this operation, 486 kB of additional disk space will be used.\n",
      "Get:1 http://archive.ubuntu.com/ubuntu bionic/universe amd64 libgeos-dev amd64 3.6.2-1build2 [73.1 kB]\n",
      "Fetched 73.1 kB in 1s (56.8 kB/s)\n",
      "Selecting previously unselected package libgeos-dev.\n",
      "(Reading database ... 146475 files and directories currently installed.)\n",
      "Preparing to unpack .../libgeos-dev_3.6.2-1build2_amd64.deb ...\n",
      "Unpacking libgeos-dev (3.6.2-1build2) ...\n",
      "Setting up libgeos-dev (3.6.2-1build2) ...\n",
      "Processing triggers for man-db (2.8.3-2ubuntu0.1) ...\n",
      "Collecting git+https://github.com/MartinPdeS/PyMieSim.git\n",
      "  Cloning https://github.com/MartinPdeS/PyMieSim.git to /tmp/pip-req-build-qe6vez25\n",
      "  Running command git clone -q https://github.com/MartinPdeS/PyMieSim.git /tmp/pip-req-build-qe6vez25\n",
      "Requirement already satisfied: numpy in /usr/local/lib/python3.6/dist-packages (from PyMieSim==0.1) (1.19.5)\n",
      "Requirement already satisfied: scipy in /usr/local/lib/python3.6/dist-packages (from PyMieSim==0.1) (1.4.1)\n",
      "Requirement already satisfied: matplotlib in /usr/local/lib/python3.6/dist-packages (from PyMieSim==0.1) (3.2.2)\n",
      "Requirement already satisfied: pandas in /usr/local/lib/python3.6/dist-packages (from PyMieSim==0.1) (1.1.5)\n",
      "Requirement already satisfied: cython in /usr/local/lib/python3.6/dist-packages (from PyMieSim==0.1) (0.29.21)\n",
      "Collecting mayavi\n",
      "\u001b[?25l  Downloading https://files.pythonhosted.org/packages/63/5f/350dbde409fa5925ed8696c05e916196e10c3650a9bb54a50126e3a2d9d5/mayavi-4.7.2.tar.gz (7.1MB)\n",
      "\u001b[K     |████████████████████████████████| 7.1MB 4.2MB/s \n",
      "\u001b[?25hCollecting ai.cs\n",
      "  Downloading https://files.pythonhosted.org/packages/e0/52/6add9ff47b0d6f3652f5d5b5e7815e49114754289a59b886441308cf2651/ai.cs-1.0.7-py3-none-any.whl\n",
      "Collecting geos\n",
      "\u001b[?25l  Downloading https://files.pythonhosted.org/packages/7a/1c/a7ae7e2685719b31dbde13e90c6386f872b8ee2670d833f4211b4e3d5106/geos-0.2.2-py3-none-any.whl (368kB)\n",
      "\u001b[K     |████████████████████████████████| 368kB 45.8MB/s \n",
      "\u001b[?25hCollecting cartopy\n",
      "\u001b[?25l  Downloading https://files.pythonhosted.org/packages/46/c1/04e50c9986842f00f7db0e7a65caa896840050d7328f74e5b7437aa01179/Cartopy-0.18.0.tar.gz (14.4MB)\n",
      "\u001b[K     |████████████████████████████████| 14.4MB 335kB/s \n",
      "\u001b[?25hCollecting fibermodes@ git+https://github.com/cbrunet/fibermodes.git#egg=fibermodes-0.2.0\n",
      "  Cloning https://github.com/cbrunet/fibermodes.git to /tmp/pip-install-f8ofcok3/fibermodes\n",
      "  Running command git clone -q https://github.com/cbrunet/fibermodes.git /tmp/pip-install-f8ofcok3/fibermodes\n",
      "Requirement already satisfied: cycler>=0.10 in /usr/local/lib/python3.6/dist-packages (from matplotlib->PyMieSim==0.1) (0.10.0)\n",
      "Requirement already satisfied: kiwisolver>=1.0.1 in /usr/local/lib/python3.6/dist-packages (from matplotlib->PyMieSim==0.1) (1.3.1)\n",
      "Requirement already satisfied: python-dateutil>=2.1 in /usr/local/lib/python3.6/dist-packages (from matplotlib->PyMieSim==0.1) (2.8.1)\n",
      "Requirement already satisfied: pyparsing!=2.0.4,!=2.1.2,!=2.1.6,>=2.0.1 in /usr/local/lib/python3.6/dist-packages (from matplotlib->PyMieSim==0.1) (2.4.7)\n",
      "Requirement already satisfied: pytz>=2017.2 in /usr/local/lib/python3.6/dist-packages (from pandas->PyMieSim==0.1) (2018.9)\n",
      "Collecting apptools\n",
      "\u001b[?25l  Downloading https://files.pythonhosted.org/packages/c8/2f/cca173cf2077a61b5e07a00ffba317a51e33502ee93570ef37f84fef81a3/apptools-5.1.0.tar.gz (177kB)\n",
      "\u001b[K     |████████████████████████████████| 184kB 52.5MB/s \n",
      "\u001b[?25hCollecting envisage\n",
      "\u001b[?25l  Downloading https://files.pythonhosted.org/packages/35/09/3a7451cb2777a53f45012011d6b8566384ee6d958d14e6f87b383fe09a61/envisage-5.0.0.tar.gz (197kB)\n",
      "\u001b[K     |████████████████████████████████| 204kB 52.3MB/s \n",
      "\u001b[?25hCollecting pyface>=6.1.1\n",
      "\u001b[?25l  Downloading https://files.pythonhosted.org/packages/00/cf/7dcb424f90bda9030d514385def85904f4e1de1b8f5aadde8ee3653158d5/pyface-7.2.0.tar.gz (6.1MB)\n",
      "\u001b[K     |████████████████████████████████| 6.2MB 45.8MB/s \n",
      "\u001b[?25hRequirement already satisfied: pygments in /usr/local/lib/python3.6/dist-packages (from mayavi->PyMieSim==0.1) (2.6.1)\n",
      "Collecting traits>=6.0.0\n",
      "\u001b[?25l  Downloading https://files.pythonhosted.org/packages/16/c2/237decfb7d26bafcf2e758ec5c47d38fac60a596ab2ee370f005d654c9f9/traits-6.2.0-cp36-cp36m-manylinux2010_x86_64.whl (5.1MB)\n",
      "\u001b[K     |████████████████████████████████| 5.1MB 39.1MB/s \n",
      "\u001b[?25hCollecting traitsui>=7.0.0\n",
      "\u001b[?25l  Downloading https://files.pythonhosted.org/packages/4b/eb/ba1e357b8b70b537c4c7ce548511e724b42980856596292b64432076c052/traitsui-7.1.1.tar.gz (5.8MB)\n",
      "\u001b[K     |████████████████████████████████| 5.8MB 32.0MB/s \n",
      "\u001b[?25hCollecting vtk\n",
      "\u001b[?25l  Downloading https://files.pythonhosted.org/packages/f9/3e/fa760bdbcc20d9f2fedebace22ffc575335bb5f281e98ca9831475ff3f09/vtk-9.0.1-cp36-cp36m-manylinux2010_x86_64.whl (103.4MB)\n",
      "\u001b[K     |████████████████████████████████| 103.4MB 39kB/s \n",
      "\u001b[?25hRequirement already satisfied: flask in /usr/local/lib/python3.6/dist-packages (from geos->PyMieSim==0.1) (1.1.2)\n",
      "Requirement already satisfied: pillow in /usr/local/lib/python3.6/dist-packages (from geos->PyMieSim==0.1) (7.0.0)\n",
      "Requirement already satisfied: lxml in /usr/local/lib/python3.6/dist-packages (from geos->PyMieSim==0.1) (4.2.6)\n",
      "Requirement already satisfied: shapely>=1.5.6 in /usr/local/lib/python3.6/dist-packages (from cartopy->PyMieSim==0.1) (1.7.1)\n",
      "Collecting pyshp>=1.1.4\n",
      "\u001b[?25l  Downloading https://files.pythonhosted.org/packages/38/85/fbf87e7aa55103e0d06af756bdbc15cf821fa580414c23142d60a35d4f85/pyshp-2.1.3.tar.gz (219kB)\n",
      "\u001b[K     |████████████████████████████████| 225kB 45.8MB/s \n",
      "\u001b[?25hRequirement already satisfied: six>=1.3.0 in /usr/local/lib/python3.6/dist-packages (from cartopy->PyMieSim==0.1) (1.15.0)\n",
      "Requirement already satisfied: setuptools>=0.7.2 in /usr/local/lib/python3.6/dist-packages (from cartopy->PyMieSim==0.1) (53.0.0)\n",
      "Collecting pyqtgraph>=0.9.10\n",
      "\u001b[?25l  Downloading https://files.pythonhosted.org/packages/7c/8e/0cdd8613548f138ec0ffb38b00f91da69a810f322ee1d08304d37354f8d0/pyqtgraph-0.11.1-py2.py3-none-any.whl (824kB)\n",
      "\u001b[K     |████████████████████████████████| 829kB 36.9MB/s \n",
      "\u001b[?25hCollecting configobj\n",
      "  Downloading https://files.pythonhosted.org/packages/64/61/079eb60459c44929e684fa7d9e2fdca403f67d64dd9dbac27296be2e0fab/configobj-5.0.6.tar.gz\n",
      "Requirement already satisfied: importlib-metadata in /usr/local/lib/python3.6/dist-packages (from pyface>=6.1.1->mayavi->PyMieSim==0.1) (3.4.0)\n",
      "Requirement already satisfied: importlib-resources>=1.1.0 in /usr/local/lib/python3.6/dist-packages (from pyface>=6.1.1->mayavi->PyMieSim==0.1) (5.1.0)\n",
      "Requirement already satisfied: click>=5.1 in /usr/local/lib/python3.6/dist-packages (from flask->geos->PyMieSim==0.1) (7.1.2)\n",
      "Requirement already satisfied: Werkzeug>=0.15 in /usr/local/lib/python3.6/dist-packages (from flask->geos->PyMieSim==0.1) (1.0.1)\n",
      "Requirement already satisfied: Jinja2>=2.10.1 in /usr/local/lib/python3.6/dist-packages (from flask->geos->PyMieSim==0.1) (2.11.3)\n",
      "Requirement already satisfied: itsdangerous>=0.24 in /usr/local/lib/python3.6/dist-packages (from flask->geos->PyMieSim==0.1) (1.1.0)\n",
      "Requirement already satisfied: zipp>=0.5 in /usr/local/lib/python3.6/dist-packages (from importlib-metadata->pyface>=6.1.1->mayavi->PyMieSim==0.1) (3.4.0)\n",
      "Requirement already satisfied: typing-extensions>=3.6.4; python_version < \"3.8\" in /usr/local/lib/python3.6/dist-packages (from importlib-metadata->pyface>=6.1.1->mayavi->PyMieSim==0.1) (3.7.4.3)\n",
      "Requirement already satisfied: MarkupSafe>=0.23 in /usr/local/lib/python3.6/dist-packages (from Jinja2>=2.10.1->flask->geos->PyMieSim==0.1) (1.1.1)\n",
      "Building wheels for collected packages: PyMieSim, mayavi, cartopy, fibermodes, apptools, envisage, pyface, traitsui, pyshp, configobj\n",
      "  Building wheel for PyMieSim (setup.py) ... \u001b[?25l\u001b[?25hdone\n",
      "  Created wheel for PyMieSim: filename=PyMieSim-0.1-cp36-cp36m-linux_x86_64.whl size=722720 sha256=8294dd219408de7c74347f7a2f17f02472f6655a42a85925da481dce6230a3f0\n",
      "  Stored in directory: /tmp/pip-ephem-wheel-cache-fqyup_31/wheels/b7/a9/24/a2b6d07b9675f1beeb1d4bbf010dca1d7da2fdda539ef09101\n",
      "  Building wheel for mayavi (setup.py) ... \u001b[?25lerror\n",
      "\u001b[31m  ERROR: Failed building wheel for mayavi\u001b[0m\n",
      "\u001b[?25h  Running setup.py clean for mayavi\n",
      "  Building wheel for cartopy (setup.py) ... \u001b[?25l\u001b[?25hdone\n",
      "  Created wheel for cartopy: filename=Cartopy-0.18.0-cp36-cp36m-linux_x86_64.whl size=15132426 sha256=7c3bc98e72dbe51a2a0dfdd56918733abeaf327411f2d1d8ad65529efe5420cf\n",
      "  Stored in directory: /root/.cache/pip/wheels/8d/f8/da/2c05136f2162370d2baec85bfbbf91d7729ab9e248da878acd\n",
      "  Building wheel for fibermodes (setup.py) ... \u001b[?25l\u001b[?25hdone\n",
      "  Created wheel for fibermodes: filename=fibermodes-0.2.0-cp36-none-any.whl size=458396 sha256=c7a757a587a5ba39a7b60332f4442e7b1312c05c5a87d193335de18d49e8aefb\n",
      "  Stored in directory: /tmp/pip-ephem-wheel-cache-fqyup_31/wheels/aa/89/36/b112835b8b922596fa621d6cfe30faaeaea758d96b59b79b00\n",
      "  Building wheel for apptools (setup.py) ... \u001b[?25l\u001b[?25hdone\n",
      "  Created wheel for apptools: filename=apptools-5.1.0-cp36-none-any.whl size=228757 sha256=ab71a408e4ff0ee37d5a68421021aa82382cfd0fe06f30f285f8188136237f29\n",
      "  Stored in directory: /root/.cache/pip/wheels/55/c1/79/64868a3cdd74eb83029044c0adfd490210fe9126bcf337daec\n",
      "  Building wheel for envisage (setup.py) ... \u001b[?25l\u001b[?25hdone\n",
      "  Created wheel for envisage: filename=envisage-5.0.0-cp36-none-any.whl size=319222 sha256=ce64c92ac2cfe18e6b58b34c83b24f9ddeed7086c91a3b041fdb0a8db7797a78\n",
      "  Stored in directory: /root/.cache/pip/wheels/9c/b0/c6/b933e75c4deafad7597fda9d9664b46e7d8a1e1190e8f42186\n",
      "  Building wheel for pyface (setup.py) ... \u001b[?25l\u001b[?25hdone\n",
      "  Created wheel for pyface: filename=pyface-7.2.0-cp36-none-any.whl size=1205829 sha256=98bda8e54f9d65d83eda77cb110bc7fcc1459253f22e5118a46377fa2230ecf8\n",
      "  Stored in directory: /root/.cache/pip/wheels/47/49/65/f89e378c2b6ec17518791d965ec1f006c7e7590f52cd7dfc94\n",
      "  Building wheel for traitsui (setup.py) ... \u001b[?25l\u001b[?25hdone\n",
      "  Created wheel for traitsui: filename=traitsui-7.1.1-cp36-none-any.whl size=1499735 sha256=3765876fb671f4cb07cdaf9cb2ec4a7e16453a1a803b163db292b3ace29fe18f\n",
      "  Stored in directory: /root/.cache/pip/wheels/92/c7/fd/d9c55dfb59be927eb66eb3d411afb45bb0cb8d06945136f490\n",
      "  Building wheel for pyshp (setup.py) ... \u001b[?25l\u001b[?25hdone\n",
      "  Created wheel for pyshp: filename=pyshp-2.1.3-cp36-none-any.whl size=37264 sha256=495c94848c3d1b534431c43bccf284e7db39163314ff8d437bcab7d9c0847ac6\n",
      "  Stored in directory: /root/.cache/pip/wheels/76/2b/d4/53e6b9a0fb0a9f9f29664cf82605af8bc81d5ab44d987896dd\n",
      "  Building wheel for configobj (setup.py) ... \u001b[?25l\u001b[?25hdone\n",
      "  Created wheel for configobj: filename=configobj-5.0.6-cp36-none-any.whl size=34545 sha256=b9c37028b0e8c08b37edcaf6c787718d77f3915240aed1b6d285da1004958e7c\n",
      "  Stored in directory: /root/.cache/pip/wheels/f1/e4/16/4981ca97c2d65106b49861e0b35e2660695be7219a2d351ee0\n",
      "Successfully built PyMieSim cartopy fibermodes apptools envisage pyface traitsui pyshp configobj\n",
      "Failed to build mayavi\n",
      "Installing collected packages: configobj, traits, pyface, traitsui, apptools, envisage, vtk, mayavi, ai.cs, geos, pyshp, cartopy, pyqtgraph, fibermodes, PyMieSim\n",
      "    Running setup.py install for mayavi ... \u001b[?25l\u001b[?25hdone\n",
      "Successfully installed PyMieSim-0.1 ai.cs-1.0.7 apptools-5.1.0 cartopy-0.18.0 configobj-5.0.6 envisage-5.0.0 fibermodes-0.2.0 geos-0.2.2 mayavi-4.7.2 pyface-7.2.0 pyqtgraph-0.11.1 pyshp-2.1.3 traits-6.2.0 traitsui-7.1.1 vtk-9.0.1\n"
     ]
    }
   ],
   "source": [
    "!apt-get install libproj-dev proj-data proj-bin  \n",
    "!apt-get install libgeos-dev\n",
    "\n",
    "!pip3 install git+https://github.com/MartinPdeS/PyMieSim.git"
   ]
  },
  {
   "cell_type": "markdown",
   "metadata": {
    "id": "o-z6SJzAZztT"
   },
   "source": [
    "**0) Scatterer: S1-S2**\n",
    "=========================================="
   ]
  },
  {
   "cell_type": "code",
   "execution_count": 3,
   "metadata": {
    "colab": {
     "base_uri": "https://localhost:8080/",
     "height": 293
    },
    "id": "akyVfNC2Q48_",
    "outputId": "bca45be4-1549-43b0-a814-63760e2d5246"
   },
   "outputs": [
    {
     "name": "stderr",
     "output_type": "stream",
     "text": [
      "/usr/local/lib/python3.6/dist-packages/traits/etsconfig/etsconfig.py:415: UserWarning: Environment variable \"HOME\" not set, setting home directory to /tmp\n",
      "  % (environment_variable, parent_directory)\n"
     ]
    },
    {
     "name": "stdout",
     "output_type": "stream",
     "text": [
      "[S1S2] C++ module loaded\n",
      "[GetFields] Cython module loaded\n"
     ]
    },
    {
     "data": {
      "image/png": "[encoded data removed]",
      "text/plain": [
       "<Figure size 432x288 with 2 Axes>"
      ]
     },
     "metadata": {
      "needs_background": "light",
      "tags": []
     },
     "output_type": "display_data"
    }
   ],
   "source": [
    "from PyMieSim.classes.Scattering import Scatterer\n",
    "from PyMieSim.Physics import Source\n",
    "\n",
    "LightSource = Source(Wavelength = 450e-9,\n",
    "                  Polarization = 0,\n",
    "                  Power = 1,\n",
    "                  Radius = 1)\n",
    "\n",
    "Scat = Scatterer(Diameter    = 300e-9,\n",
    "                 Source      = LightSource,\n",
    "                 Index       = 1.4)\n",
    "\n",
    "\n",
    "S1S2 = Scat.S1S2(Num=100)\n",
    "\n",
    "S1S2.Plot()\n",
    "\n"
   ]
  },
  {
   "cell_type": "markdown",
   "metadata": {
    "id": "DYRwu7eUaPYf"
   },
   "source": [
    "**1) Scatterer: Full far-field** **bold text**\n",
    "=========================================="
   ]
  },
  {
   "cell_type": "code",
   "execution_count": 4,
   "metadata": {
    "colab": {
     "base_uri": "https://localhost:8080/"
    },
    "id": "_oOqlaUMQy6a",
    "outputId": "be09be33-f3a3-4d87-9be4-bc3ea5334240"
   },
   "outputs": [
    {
     "name": "stdout",
     "output_type": "stream",
     "text": [
      "\n",
      "        Object:          Dictionary\n",
      "        Keys:            Parallel, Perpendicular, Theta, Phi\n",
      "        Structured data: Yes\n",
      "        Method:          <Plot>\n",
      "        Shape:           (100, 100)\n"
     ]
    }
   ],
   "source": [
    "from PyMieSim.classes.Scattering import Scatterer\n",
    "from PyMieSim.Physics import Source\n",
    "\n",
    "LightSource = Source(Wavelength = 450e-9,\n",
    "                  Polarization = 0,\n",
    "                  Power = 1,\n",
    "                  Radius = 1)\n",
    "\n",
    "Scat = Scatterer(Diameter    = 300e-9,\n",
    "                 Source      = LightSource,\n",
    "                 Index       = 1.4)\n",
    "\n",
    "\n",
    "Fields = Scat.Field(Num=100)\n",
    "\n",
    "print(Fields)"
   ]
  },
  {
   "cell_type": "markdown",
   "metadata": {
    "id": "Kt-9h_MeaUtj"
   },
   "source": [
    "**2) Scatterer: phase function**\n",
    "================================"
   ]
  },
  {
   "cell_type": "code",
   "execution_count": 5,
   "metadata": {
    "colab": {
     "base_uri": "https://localhost:8080/"
    },
    "id": "iiG_IqRAaWBQ",
    "outputId": "aeaa0692-3673-4a39-a379-4491ce63265d"
   },
   "outputs": [
    {
     "name": "stdout",
     "output_type": "stream",
     "text": [
      "\n",
      "        Object:          Dictionary\n",
      "        Keys:            SPF, Parallel, Perpendicular, Theta, Phi\n",
      "        Structured data: Yes\n",
      "        Method:          <Plot>\n",
      "        Shape:           (100, 100)\n"
     ]
    }
   ],
   "source": [
    "from PyMieSim.classes.Scattering import Scatterer\n",
    "from PyMieSim.Physics import Source\n",
    "\n",
    "LightSource = Source(Wavelength = 450e-9,\n",
    "                  Polarization = 0,\n",
    "                  Power = 1,\n",
    "                  Radius = 1)\n",
    "\n",
    "Scat = Scatterer(Diameter    = 400e-9,\n",
    "                 Source      = LightSource,\n",
    "                 Index       = 1.4)\n",
    "\n",
    "\n",
    "SPF = Scat.SPF(Num=100)\n",
    "\n",
    "print(SPF)\n",
    "\n"
   ]
  },
  {
   "cell_type": "markdown",
   "metadata": {
    "id": "MG375nuDaWsW"
   },
   "source": [
    "**3) Detector: Photodiode**\n",
    "===========================\n"
   ]
  },
  {
   "cell_type": "code",
   "execution_count": 8,
   "metadata": {
    "colab": {
     "base_uri": "https://localhost:8080/"
    },
    "id": "rVUPYNxpaYTh",
    "outputId": "bcbd3ad0-800f-444b-a584-b5955b9ec3c3"
   },
   "outputs": [
    {
     "name": "stdout",
     "output_type": "stream",
     "text": [
      "<PyMieCoupling.classes.Detector.Photodiode object at 0x7ff70d56c1d0>\n"
     ]
    }
   ],
   "source": [
    "from PyMieSim.Physics import Source\n",
    "from PyMieSim.classes.Detector import Photodiode\n",
    "\n",
    "LightSource = Source(Wavelength = 450e-9,\n",
    "                  Polarization = 0,\n",
    "                  Power = 1,\n",
    "                  Radius = 1)\n",
    "\n",
    "Detector = Photodiode(NA                = 0.8,\n",
    "                      Sampling          = 1001,\n",
    "                      GammaOffset       = 0,\n",
    "                      PhiOffset         = 0)\n",
    "\n",
    "\n",
    "print(Detector)"
   ]
  },
  {
   "cell_type": "markdown",
   "metadata": {
    "id": "QuLv-VgOkuQU"
   },
   "source": [
    "**4) Detector: LPMode**\n",
    "=========================================="
   ]
  },
  {
   "cell_type": "code",
   "execution_count": 9,
   "metadata": {
    "colab": {
     "base_uri": "https://localhost:8080/"
    },
    "id": "vcLVadCHf0uZ",
    "outputId": "ed295ba5-6106-4dff-b129-e2ef531a05d8"
   },
   "outputs": [
    {
     "name": "stdout",
     "output_type": "stream",
     "text": [
      "\n",
      "        LP mode detector\n",
      "        Coupling Mode: Amplitude\n",
      "        LP Mode:       (2, 1, 'h')\n",
      "        Sampling:      201\n",
      "        Gamma offset:  0\n",
      "        Phi offset:    0\n",
      "        \n"
     ]
    }
   ],
   "source": [
    "from PyMieSim.Physics import Source\n",
    "from PyMieSim.classes.Detector import LPmode\n",
    "\n",
    "LightSource = Source(Wavelength = 450e-9,\n",
    "                  Polarization = 0,\n",
    "                  Power = 1,\n",
    "                  Radius = 1)\n",
    "\n",
    "Detector = LPmode(Mode         = (1, 1,'h'),\n",
    "                  Sampling     = 201,\n",
    "                  NA           = 0.2,\n",
    "                  GammaOffset  = 0,\n",
    "                  PhiOffset    = 0,\n",
    "                  CouplingMode = 'Centered')\n",
    "\n",
    "\n",
    "print(Detector)"
   ]
  },
  {
   "cell_type": "markdown",
   "metadata": {
    "id": "4WgEmJzoMbmI"
   },
   "source": [
    "**5) Coupling: Scatterer-LPMode**\n",
    "=========================================="
   ]
  },
  {
   "cell_type": "code",
   "execution_count": 8,
   "metadata": {
    "colab": {
     "base_uri": "https://localhost:8080/"
    },
    "id": "bth6dZK3Oghf",
    "outputId": "76d41b68-995e-4d27-9ffd-7f0244a04132"
   },
   "outputs": [
    {
     "name": "stdout",
     "output_type": "stream",
     "text": [
      "1.8440827937247691e-07\n"
     ]
    }
   ],
   "source": [
    "from PyMieSim.Physics import Source\n",
    "from PyMieSim.classes.Detector import LPmode\n",
    "from PyMieSim.classes.Scattering import Scatterer\n",
    "\n",
    "LightSource = Source(Wavelength = 450e-9,\n",
    "                  Polarization = 0,\n",
    "                  Power = 1,\n",
    "                  Radius = 1)\n",
    "\n",
    "Detector = LPmode(Mode         = (1, 1,'h'),\n",
    "                  Sampling     = 201,\n",
    "                  NA           = 0.2,\n",
    "                  GammaOffset  = 0,\n",
    "                  PhiOffset    = 0,\n",
    "                  CouplingMode = 'Centered')\n",
    "\n",
    "\n",
    "Scat = Scatterer(Diameter    = 400e-9,\n",
    "                 Source      = LightSource,\n",
    "                 Index       = 1.4)\n",
    "\n",
    "Coupling = Detector.Coupling(Scatterer = Scat)\n",
    "\n",
    "print(Coupling)"
   ]
  },
  {
   "cell_type": "markdown",
   "metadata": {
    "id": "7kqyvYf72IzA"
   },
   "source": [
    "**6) ScattererSet: Qscattering**\n",
    "=========================================="
   ]
  },
  {
   "cell_type": "code",
   "execution_count": 6,
   "metadata": {
    "colab": {
     "base_uri": "https://localhost:8080/",
     "height": 311
    },
    "id": "L3uIM4k3Mklm",
    "outputId": "23d8254b-5874-4845-f141-50801ccadef5"
   },
   "outputs": [
    {
     "name": "stdout",
     "output_type": "stream",
     "text": [
      "[S1S2] C++ module loaded\n",
      "[Efficiencies] C++ module loaded\n"
     ]
    },
    {
     "data": {
      "image/png": "[encoded data removed]",
      "text/plain": [
       "<Figure size 576x288 with 1 Axes>"
      ]
     },
     "metadata": {
      "needs_background": "light",
      "tags": []
     },
     "output_type": "display_data"
    }
   ],
   "source": [
    "import numpy as np\n",
    "from PyMieSim.Physics import Source\n",
    "from PyMieSim.classes.Sets import ScattererSet\n",
    "\n",
    "LightSource = Source(Wavelength   = 950e-9,\n",
    "                     Polarization = 0)\n",
    "\n",
    "\n",
    "ScatSet = ScattererSet(DiameterList  = np.linspace(100e-9, 4500e-9, 500),\n",
    "                       RIList        = np.linspace(1.5, 1.5, 1).round(1),\n",
    "                       Source        = LightSource)\n",
    "\n",
    "\n",
    "Qsca = ScatSet.Qsca()\n",
    "\n",
    "Qsca.Plot()"
   ]
  },
  {
   "cell_type": "markdown",
   "metadata": {
    "id": "1KFPa18J2Xs1"
   },
   "source": [
    "**7) ExperimentalSet: Coupling**\n",
    "=========================================="
   ]
  },
  {
   "cell_type": "code",
   "execution_count": 7,
   "metadata": {
    "colab": {
     "base_uri": "https://localhost:8080/",
     "height": 277
    },
    "id": "j3hbVEMupW7e",
    "outputId": "e5753d46-73ce-47e5-bc4f-304e783e1182"
   },
   "outputs": [
    {
     "data": {
      "image/png": "[encoded data removed]",
      "text/plain": [
       "<Figure size 576x288 with 1 Axes>"
      ]
     },
     "metadata": {
      "needs_background": "light",
      "tags": []
     },
     "output_type": "display_data"
    }
   ],
   "source": [
    "import numpy as np\n",
    "from PyMieSim.Physics import Source\n",
    "from PyMieSim.classes.Detector import LPmode\n",
    "from PyMieSim.classes.Sets import ScattererSet, ExperimentalSet\n",
    "\n",
    "LightSource = Source(Wavelength   = 950e-9,\n",
    "                     Polarization = 0)\n",
    "\n",
    "\n",
    "\n",
    "Detector0 = LPmode(NA                = 0.2,\n",
    "                   Sampling          = 401,\n",
    "                   GammaOffset       = 0,\n",
    "                   PhiOffset         = 20,\n",
    "                   Mode              = (0,1),\n",
    "                   CouplingMode      = 'Mean')\n",
    "\n",
    "Detector1 = LPmode(NA                = 0.2,\n",
    "                   Sampling          = 401,\n",
    "                   GammaOffset       = 0,\n",
    "                   PhiOffset         = 20,\n",
    "                   Mode              = (1,1),\n",
    "                   CouplingMode      = 'Mean')\n",
    "\n",
    "\n",
    "\n",
    "\n",
    "\n",
    "ScatSet = ScattererSet(DiameterList  = np.linspace(100e-9, 3000e-9, 300),\n",
    "                       RIList        = np.linspace(1.5, 1.5, 1).round(1),\n",
    "                       Source        = LightSource)\n",
    "\n",
    "\n",
    "\n",
    "\n",
    "\n",
    "Set = ExperimentalSet(ScattererSet  = ScatSet,\n",
    "                      Detectors     = (Detector0, Detector1))\n",
    "\n",
    "\n",
    "Data = Set.DataFrame\n",
    "\n",
    "Data.Plot(y='Coupling')"
   ]
  },
  {
   "cell_type": "code",
   "execution_count": null,
   "metadata": {
    "id": "ommCwX1fpv6U"
   },
   "outputs": [],
   "source": []
  }
 ],
 "metadata": {
  "colab": {
   "collapsed_sections": [],
   "include_colab_link": true,
   "name": "MieCoupling.ipynb",
   "provenance": [],
   "toc_visible": true
  },
  "kernelspec": {
   "display_name": "Python 3",
   "language": "python",
   "name": "python3"
  },
  "language_info": {
   "codemirror_mode": {
    "name": "ipython",
    "version": 3
   },
   "file_extension": ".py",
   "mimetype": "text/x-python",
   "name": "python",
   "nbconvert_exporter": "python",
   "pygments_lexer": "ipython3",
   "version": "3.9.2"
  }
 },
 "nbformat": 4,
 "nbformat_minor": 4
}
